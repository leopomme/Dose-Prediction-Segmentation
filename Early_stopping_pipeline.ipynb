{
  "metadata": {
    "accelerator": "GPU",
    "colab": {
      "provenance": [],
      "include_colab_link": true
    },
    "gpuClass": "standard",
    "kernelspec": {
      "display_name": "Python 3",
      "language": "python",
      "name": "python3"
    },
    "language_info": {
      "name": "python",
      "version": "3.7.12",
      "mimetype": "text/x-python",
      "codemirror_mode": {
        "name": "ipython",
        "version": 3
      },
      "pygments_lexer": "ipython3",
      "nbconvert_exporter": "python",
      "file_extension": ".py"
    }
  },
  "nbformat_minor": 0,
  "nbformat": 4,
  "cells": [
    {
      "cell_type": "markdown",
      "metadata": {
        "id": "view-in-github",
        "colab_type": "text"
      },
      "source": [
        "<a href=\"https://colab.research.google.com/github/leopomme/Dose-Prediction-Segmentation/blob/main/Early_stopping_pipeline.ipynb\" target=\"_parent\"><img src=\"https://colab.research.google.com/assets/colab-badge.svg\" alt=\"Open In Colab\"/></a>"
      ]
    },
    {
      "cell_type": "code",
      "source": [
        "import os\n",
        "import pandas as pd\n",
        "import numpy as np\n",
        "import matplotlib.pyplot as plt\n",
        "import h5py\n",
        "\n",
        "import cv2\n",
        "import albumentations as A\n",
        "import torch\n",
        "import torch.nn as nn\n",
        "import torch.nn.functional as F\n",
        "import torchvision\n",
        "from torchvision import transforms\n",
        "from torch.utils.data.dataset import Dataset\n",
        "from torch.utils.data import DataLoader\n",
        "import torch.optim as optim\n",
        "import matplotlib.pyplot as plt\n",
        "from albumentations.pytorch import ToTensorV2\n",
        "\n",
        "import time \n",
        "from tqdm import tqdm\n",
        "from glob import glob\n",
        "import zipfile\n",
        "import shutil\n"
      ],
      "metadata": {
        "id": "59xiuIQZLCPP",
        "execution": {
          "iopub.status.busy": "2023-03-21T10:43:48.679408Z",
          "iopub.execute_input": "2023-03-21T10:43:48.680371Z",
          "iopub.status.idle": "2023-03-21T10:43:48.689246Z",
          "shell.execute_reply.started": "2023-03-21T10:43:48.680313Z",
          "shell.execute_reply": "2023-03-21T10:43:48.688176Z"
        },
        "trusted": true
      },
      "execution_count": 1,
      "outputs": []
    },
    {
      "cell_type": "code",
      "source": [
        "!git clone https://github.com/soniamartinot/MVA-Dose-Prediction.git"
      ],
      "metadata": {
        "colab": {
          "base_uri": "https://localhost:8080/"
        },
        "id": "LHRC5fH0LKcf",
        "outputId": "78f98dfe-5902-4976-ef61-ee30ffe73c29",
        "execution": {
          "iopub.status.busy": "2023-03-21T10:43:48.693456Z",
          "iopub.execute_input": "2023-03-21T10:43:48.693731Z",
          "iopub.status.idle": "2023-03-21T10:43:49.671982Z",
          "shell.execute_reply.started": "2023-03-21T10:43:48.693705Z",
          "shell.execute_reply": "2023-03-21T10:43:49.670718Z"
        },
        "trusted": true
      },
      "execution_count": 2,
      "outputs": [
        {
          "output_type": "stream",
          "name": "stdout",
          "text": [
            "fatal: destination path 'MVA-Dose-Prediction' already exists and is not an empty directory.\n"
          ]
        }
      ]
    },
    {
      "cell_type": "code",
      "source": [
        "transform_img = A.Compose([\n",
        "    A.GaussNoise(var_limit=(10, 50), p=0.25),\n",
        "#     A.RandomBrightnessContrast(brightness_limit=0.1, contrast_limit=0.1, p=0.5),\n",
        "    A.Blur(blur_limit=(3, 7), p=0.25),\n",
        "])\n",
        "\n",
        "transform_img_mask = A.Compose([\n",
        " #   A.ElasticTransform(alpha=15, sigma=5, alpha_affine=5, p=0.25),\n",
        " #   A.Rotate(limit=10, p=0.25),\n",
        "])\n",
        "\n",
        "train_transforms = {\n",
        "    'img': transform_img,\n",
        "    'img_mask': transform_img_mask\n",
        "}\n",
        "\n",
        "val_transforms = None\n",
        "\n"
      ],
      "metadata": {
        "id": "k7TofpC37Fah",
        "execution": {
          "iopub.status.busy": "2023-03-21T10:43:49.682103Z",
          "iopub.execute_input": "2023-03-21T10:43:49.682637Z",
          "iopub.status.idle": "2023-03-21T10:43:49.692511Z",
          "shell.execute_reply.started": "2023-03-21T10:43:49.682600Z",
          "shell.execute_reply": "2023-03-21T10:43:49.691512Z"
        },
        "trusted": true
      },
      "execution_count": 2,
      "outputs": []
    },
    {
      "cell_type": "code",
      "source": [
        "class DoseDataset(torch.utils.data.Dataset):\n",
        "    def __init__(self, data_path, transform=None):\n",
        "        self.data_path = data_path\n",
        "        self.samples = os.listdir(data_path)\n",
        "        self.transform = transform\n",
        "\n",
        "    def __len__(self):\n",
        "        return len(self.samples)\n",
        "\n",
        "    def __getitem__(self, idx):\n",
        "        sample_path = self.data_path + os.sep + self.samples[idx]\n",
        "        ct_scan = np.load(sample_path + os.sep + 'ct.npy')\n",
        "        possible_dose_mask = np.load(sample_path + os.sep + 'possible_dose_mask.npy')\n",
        "        dose = torch.from_numpy(np.load(sample_path + os.sep + 'dose.npy')).float()\n",
        "        structure_masks = np.load(sample_path + os.sep + 'structure_masks.npy')\n",
        "\n",
        "        combined_masks = [possible_dose_mask] + [structure_masks[i] for i in range(structure_masks.shape[0])]\n",
        "\n",
        "        if self.transform:\n",
        "            if 'img_mask' in self.transform:\n",
        "                transform_func = self.transform['img_mask']\n",
        "                augmentations = transform_func(image=ct_scan, masks=combined_masks)\n",
        "                ct_scan = augmentations['image']\n",
        "                combined_masks = augmentations['masks']\n",
        "            if 'img' in self.transform:\n",
        "                transform_func = self.transform['img']\n",
        "                augmentations = transform_func(image=ct_scan)\n",
        "                ct_scan = augmentations['image']\n",
        "        \n",
        "        # Convert NumPy arrays to PyTorch tensors\n",
        "        ct_scan_tensor = torch.from_numpy(ct_scan).float().unsqueeze(0)\n",
        "        combined_masks_tensor = torch.from_numpy(np.stack(combined_masks, axis=0)).float()\n",
        "\n",
        "        # Normalize the ct_scan tensor\n",
        "        mean = ct_scan_tensor.mean()\n",
        "        std = ct_scan_tensor.std()\n",
        "        normalize = transforms.Normalize(mean=[mean], std=[std+1e-6])\n",
        "        ct_scan_tensor = normalize(ct_scan_tensor)\n",
        "\n",
        "        # Combine ct_scan_tensor and combined_masks_tensor\n",
        "        input_image = torch.cat([ct_scan_tensor, combined_masks_tensor], dim=0)\n",
        "        dose = dose.unsqueeze(0)\n",
        "\n",
        "        return {'input_image': input_image, 'dose': dose}"
      ],
      "metadata": {
        "id": "oACxne0dLMio",
        "execution": {
          "iopub.status.busy": "2023-03-21T10:43:49.695490Z",
          "iopub.execute_input": "2023-03-21T10:43:49.696021Z",
          "iopub.status.idle": "2023-03-21T10:43:49.710656Z",
          "shell.execute_reply.started": "2023-03-21T10:43:49.695980Z",
          "shell.execute_reply": "2023-03-21T10:43:49.709546Z"
        },
        "trusted": true
      },
      "execution_count": 3,
      "outputs": []
    },
    {
      "cell_type": "code",
      "source": [
        "class test_DoseDataset(torch.utils.data.Dataset):\n",
        "    def __init__(self, data_path, transform=None):\n",
        "        self.data_path = data_path\n",
        "        self.samples = os.listdir(data_path)\n",
        "        self.transform = transform\n",
        "\n",
        "    def __len__(self):\n",
        "        return len(self.samples)\n",
        "\n",
        "    def __getitem__(self, idx):\n",
        "        sample_path = self.data_path + os.sep + self.samples[idx]\n",
        "        ct_scan = torch.from_numpy(np.load(sample_path + os.sep + 'ct.npy')).float()\n",
        "        possible_dose_mask = torch.from_numpy(np.load(sample_path + os.sep + 'possible_dose_mask.npy')).float()\n",
        "        structure_masks = torch.from_numpy(np.load(sample_path + os.sep + 'structure_masks.npy')).float()\n",
        "\n",
        "        input_image = np.concatenate([ct_scan[np.newaxis, :, :], possible_dose_mask[np.newaxis, :, :], structure_masks], axis=0)\n",
        "        input_image = torch.tensor(input_image, dtype=torch.float32)\n",
        "        \n",
        "        return {'sample_name': self.samples[idx], 'input_image': input_image}"
      ],
      "metadata": {
        "id": "-w3tDPXwh4J3",
        "execution": {
          "iopub.status.busy": "2023-03-21T10:43:49.713161Z",
          "iopub.execute_input": "2023-03-21T10:43:49.713834Z",
          "iopub.status.idle": "2023-03-21T10:43:49.724806Z",
          "shell.execute_reply.started": "2023-03-21T10:43:49.713797Z",
          "shell.execute_reply": "2023-03-21T10:43:49.723790Z"
        },
        "trusted": true
      },
      "execution_count": 4,
      "outputs": []
    },
    {
      "cell_type": "code",
      "source": [
        "BATCH_SIZE = 32"
      ],
      "metadata": {
        "id": "Kp5rTdVn3eOj"
      },
      "execution_count": 5,
      "outputs": []
    },
    {
      "cell_type": "code",
      "source": [
        "train_dir = \"./MVA-Dose-Prediction/train/\"\n",
        "\n",
        "train_dataset = DoseDataset(train_dir, transform=train_transforms)\n",
        "train_dataloader = DataLoader(train_dataset, batch_size=BATCH_SIZE, num_workers=2, shuffle=True, pin_memory=True)\n",
        "print(len(train_dataloader))"
      ],
      "metadata": {
        "colab": {
          "base_uri": "https://localhost:8080/"
        },
        "id": "5Z-Xm8dNLZPG",
        "outputId": "9d678f61-d7b2-4c6e-d7c3-58b095938826",
        "execution": {
          "iopub.status.busy": "2023-03-21T10:43:49.727404Z",
          "iopub.execute_input": "2023-03-21T10:43:49.727679Z",
          "iopub.status.idle": "2023-03-21T10:43:49.745676Z",
          "shell.execute_reply.started": "2023-03-21T10:43:49.727649Z",
          "shell.execute_reply": "2023-03-21T10:43:49.744425Z"
        },
        "trusted": true
      },
      "execution_count": 6,
      "outputs": [
        {
          "output_type": "stream",
          "name": "stdout",
          "text": [
            "244\n"
          ]
        }
      ]
    },
    {
      "cell_type": "code",
      "source": [
        "val_dir = \"./MVA-Dose-Prediction/validation/\"\n",
        "\n",
        "val_dataset = DoseDataset(val_dir, transform=val_transforms)\n",
        "val_dataloader = DataLoader(val_dataset, batch_size=BATCH_SIZE, num_workers=2, shuffle=True, pin_memory=True)\n",
        "print(len(val_dataloader))"
      ],
      "metadata": {
        "colab": {
          "base_uri": "https://localhost:8080/"
        },
        "id": "gdAO-FbeNTnJ",
        "outputId": "29ca20dd-6c97-4328-c928-df4098258388",
        "execution": {
          "iopub.status.busy": "2023-03-21T10:43:49.747729Z",
          "iopub.execute_input": "2023-03-21T10:43:49.748195Z",
          "iopub.status.idle": "2023-03-21T10:43:49.755491Z",
          "shell.execute_reply.started": "2023-03-21T10:43:49.748158Z",
          "shell.execute_reply": "2023-03-21T10:43:49.754235Z"
        },
        "trusted": true
      },
      "execution_count": 7,
      "outputs": [
        {
          "output_type": "stream",
          "name": "stdout",
          "text": [
            "38\n"
          ]
        }
      ]
    },
    {
      "cell_type": "code",
      "source": [
        "test_dir = \"./MVA-Dose-Prediction/test\"\n",
        "\n",
        "test_dataset = test_DoseDataset(test_dir)\n",
        "test_dataloader = DataLoader(test_dataset, batch_size=BATCH_SIZE, num_workers=2, shuffle=True, pin_memory=True)\n",
        "print(len(test_dataloader))"
      ],
      "metadata": {
        "colab": {
          "base_uri": "https://localhost:8080/"
        },
        "id": "wyoQdyP3YxXo",
        "outputId": "291fadc4-5d81-4ea5-e5af-15f02194f555",
        "execution": {
          "iopub.status.busy": "2023-03-21T10:43:49.757641Z",
          "iopub.execute_input": "2023-03-21T10:43:49.758080Z",
          "iopub.status.idle": "2023-03-21T10:43:49.766620Z",
          "shell.execute_reply.started": "2023-03-21T10:43:49.758040Z",
          "shell.execute_reply": "2023-03-21T10:43:49.765506Z"
        },
        "trusted": true
      },
      "execution_count": 8,
      "outputs": [
        {
          "output_type": "stream",
          "name": "stdout",
          "text": [
            "38\n"
          ]
        }
      ]
    },
    {
      "cell_type": "code",
      "source": [
        "class BigBasicBlock(nn.Module):\n",
        "    def __init__(self, in_channels: int, forward_expansion: int, out_channels: int):\n",
        "        super(BigBasicBlock, self).__init__()\n",
        " \n",
        "        self.conv1 = nn.Conv2d(in_channels, forward_expansion, kernel_size=3, stride=1, padding=1)\n",
        "        self.bn1 = nn.BatchNorm2d(forward_expansion)\n",
        "        self.conv2 = nn.Conv2d(forward_expansion, out_channels, kernel_size=3, stride=1, padding=1)\n",
        "        self.bn2 = nn.BatchNorm2d(out_channels)\n",
        "\n",
        "    def forward(self, x):\n",
        "        out = self.conv1(x)\n",
        "        out = self.bn1(out)\n",
        "        out = nn.ReLU()(out)\n",
        "        out = nn.Dropout(0.1)(out)\n",
        "        out = self.conv2(out)\n",
        "        out = self.bn2(out)\n",
        "        out = nn.ReLU()(out)\n",
        "        out = nn.Dropout(0.1)(out)\n",
        "        return out\n",
        "\n",
        "class BigUNet(nn.Module):\n",
        "    def __init__(self, in_channels=12, out_channels=1):\n",
        "        super(BigUNet, self).__init__()\n",
        "\n",
        "        # Downward pass\n",
        "\n",
        "        self.first = nn.Sequential(\n",
        "            nn.Conv2d(in_channels, 64, kernel_size=3, stride=1, padding=1),\n",
        "            nn.BatchNorm2d(64),\n",
        "            nn.ReLU(),\n",
        "        )\n",
        "\n",
        "        self.down1 = nn.Sequential(\n",
        "            BigBasicBlock(64, 64, 128),\n",
        "            nn.MaxPool2d(kernel_size=2, stride=2),\n",
        "        )\n",
        "        self.down2 = nn.Sequential(\n",
        "            BigBasicBlock(128, 128, 256),\n",
        "            nn.MaxPool2d(kernel_size=2, stride=2),\n",
        "        )\n",
        "        self.down3 = nn.Sequential(\n",
        "            BigBasicBlock(256, 256, 512),\n",
        "            nn.MaxPool2d(kernel_size=2, stride=2),\n",
        "        )\n",
        "\n",
        "        # Bottom block\n",
        "        self.bottom = BigBasicBlock(512, 512, 512)\n",
        "\n",
        "        # Upward pass\n",
        "        self.up3 = nn.Sequential(\n",
        "            nn.ConvTranspose2d(512+512, 256, kernel_size=2, stride=2),\n",
        "            BigBasicBlock(256, 256, 256),\n",
        "        )\n",
        "        self.up2 = nn.Sequential(\n",
        "            nn.ConvTranspose2d(256 + 256, 128, kernel_size=2, stride=2),\n",
        "            BigBasicBlock(128, 128, 128),\n",
        "        )\n",
        "        self.up1 = nn.Sequential(\n",
        "            nn.ConvTranspose2d(128 + 128, 64, kernel_size=2, stride=2),\n",
        "            nn.Conv2d(64, 32, kernel_size=3, stride=1, padding=1),\n",
        "        )\n",
        "\n",
        "        self.last = nn.Sequential(\n",
        "            nn.Conv2d(32 + in_channels, 16, kernel_size=3, stride=1, padding=1),\n",
        "            nn.Conv2d(16, 8, kernel_size=3, stride=1, padding=1),\n",
        "            nn.Conv2d(8, 4, kernel_size=3, stride=1, padding=1),\n",
        "            nn.Conv2d(4, 2, kernel_size=3, stride=1, padding=1),\n",
        "            nn.Conv2d(2, 1, kernel_size=3, stride=1, padding=1)  \n",
        "        )\n",
        "\n",
        "    def forward(self, x):\n",
        "        # Downward pass\n",
        "        x_initial = self.first(x)\n",
        "        x1 = self.down1(x_initial)\n",
        "        x2 = self.down2(x1)\n",
        "        x3 = self.down3(x2)\n",
        "\n",
        "        # Bottom block\n",
        "        bottom = self.bottom(x3)\n",
        "\n",
        "        # Upward pass\n",
        "        y3 = self.up3(torch.cat((bottom, x3), dim=1))\n",
        "        y2 = self.up2(torch.cat((y3, x2), dim=1))\n",
        "        y1 = self.up1(torch.cat((y2, x1), dim=1))\n",
        "        \n",
        "        # Concatenate input layer\n",
        "        y_concat = torch.cat((y1, x), dim=1)\n",
        "        \n",
        "        y = self.last(y_concat)\n",
        "        y = nn.ReLU()(y)\n",
        "\n",
        "        return y\n",
        "\n"
      ],
      "metadata": {
        "id": "KTTDlkFpiGnV",
        "execution": {
          "iopub.status.busy": "2023-03-21T10:43:49.837096Z",
          "iopub.execute_input": "2023-03-21T10:43:49.837483Z",
          "iopub.status.idle": "2023-03-21T10:43:49.857222Z",
          "shell.execute_reply.started": "2023-03-21T10:43:49.837456Z",
          "shell.execute_reply": "2023-03-21T10:43:49.856075Z"
        },
        "trusted": true
      },
      "execution_count": 12,
      "outputs": []
    },
    {
      "cell_type": "code",
      "source": [
        "# Create a training loop\n",
        "def train(model, dataloader, criterion, optimizer, device):\n",
        "    model.train()\n",
        "    running_loss = 0.0\n",
        "    for i, data in enumerate(dataloader, 0):\n",
        "        inputs, labels = data['input_image'].to(device), data['dose'].to(device)\n",
        "        optimizer.zero_grad()\n",
        "        outputs = model(inputs)\n",
        "        loss = criterion(outputs, labels)\n",
        "        loss.backward()\n",
        "        optimizer.step()\n",
        "        running_loss += loss.item()\n",
        "    return running_loss / (i + 1)\n",
        "\n",
        "# Create a validation loop\n",
        "def validate(model, dataloader, criterion, device):\n",
        "    model.eval()\n",
        "    running_loss = 0.0\n",
        "    with torch.no_grad():\n",
        "        for i, data in enumerate(dataloader, 0):\n",
        "            inputs, labels = data['input_image'].to(device), data['dose'].to(device)\n",
        "            outputs = model(inputs)\n",
        "            loss = criterion(outputs, labels)\n",
        "            running_loss += loss.item()\n",
        "    return running_loss / (i + 1)\n"
      ],
      "metadata": {
        "id": "wCTO3vKnLCPd",
        "execution": {
          "iopub.status.busy": "2023-03-21T10:43:49.858572Z",
          "iopub.execute_input": "2023-03-21T10:43:49.858993Z",
          "iopub.status.idle": "2023-03-21T10:43:49.873004Z",
          "shell.execute_reply.started": "2023-03-21T10:43:49.858954Z",
          "shell.execute_reply": "2023-03-21T10:43:49.871891Z"
        },
        "trusted": true
      },
      "execution_count": 13,
      "outputs": []
    },
    {
      "cell_type": "code",
      "source": [
        "class EarlyStopping:\n",
        "  def __init__(self, patience = 5):\n",
        "    self.patience = patience\n",
        "    self.best_val_loss = None\n",
        "    self.counter = 0\n",
        "    self.early_stop = False\n",
        "\n",
        "  def __call__(self, val_loss):\n",
        "    if self.best_val_loss is None or val_loss < self.best_val_loss:\n",
        "        self.best_val_loss = val_loss\n",
        "        torch.save(model.state_dict(), 'best_trained_model.pth')\n",
        "        self.counter = 0\n",
        "    else:\n",
        "        self.counter += 1\n"
      ],
      "metadata": {
        "id": "eDKqUvPZ7kRk"
      },
      "execution_count": 17,
      "outputs": []
    },
    {
      "cell_type": "code",
      "source": [
        "# Train the model and evaluate its performance on the validation set\n",
        "num_epochs = 100\n",
        "device = torch.device(\"cuda\" if torch.cuda.is_available() else \"cpu\")\n",
        "print(device)\n",
        "model = BigUNet().to(device)\n",
        "criterion = nn.L1Loss()\n",
        "optimizer = optim.Adam(model.parameters(), lr=0.00001)\n",
        "early_stopping = EarlyStopping(patience =3)\n",
        "\n",
        "train_loss_list = []\n",
        "val_loss_list = []\n",
        "\n",
        "for epoch in range(num_epochs):\n",
        "    train_loss = train(model, train_dataloader, criterion, optimizer, device)\n",
        "    val_loss = validate(model, val_dataloader, criterion, device)\n",
        "    print(f'Epoch {epoch + 1}/{num_epochs}, Train Loss: {train_loss:.4f}, Val Loss: {val_loss:.4f}')\n",
        "    train_loss_list.append(train_loss)\n",
        "    val_loss_list.append(val_loss)\n",
        "    \n",
        "    early_stopping(val_loss)\n",
        "    if early_stopping.counter >= early_stopping.patience:\n",
        "      print(f'Early stopping at epoch {epoch + 1}. Best epoch: {epoch + 1 - early_stopping.counter} with Val Loss: {early_stopping.best_val_loss:.4f}')\n",
        "      break\n",
        "\n",
        "# Save the trained model\n",
        "torch.save(model.state_dict(), 'trained_model.pth')"
      ],
      "metadata": {
        "colab": {
          "base_uri": "https://localhost:8080/"
        },
        "id": "41jaPhkTLCPd",
        "outputId": "d770b093-c1a6-4b11-cdc6-7e669cb5ce93",
        "execution": {
          "iopub.status.busy": "2023-03-21T10:43:49.874418Z",
          "iopub.execute_input": "2023-03-21T10:43:49.874899Z"
        },
        "trusted": true
      },
      "execution_count": null,
      "outputs": [
        {
          "output_type": "stream",
          "name": "stdout",
          "text": [
            "cuda\n",
            "Epoch 1/100, Train Loss: 2.9261, Val Loss: 2.6645\n",
            "Epoch 2/100, Train Loss: 1.6887, Val Loss: 0.7759\n"
          ]
        }
      ]
    },
    {
      "cell_type": "markdown",
      "source": [
        "Epoch 1/15, Train Loss: 2.3127, Val Loss: 1.7891\n",
        "Epoch 2/15, Train Loss: 1.3737, Val Loss: 1.1563\n",
        "Epoch 3/15, Train Loss: 1.1337, Val Loss: 1.1161\n",
        "Epoch 4/15, Train Loss: 1.0713, Val Loss: 1.0499\n",
        "Epoch 5/15, Train Loss: 1.0433, Val Loss: 1.1620\n",
        "Epoch 6/15, Train Loss: 1.0064, Val Loss: 0.9521\n",
        "Epoch 7/15, Train Loss: 0.9911, Val Loss: 1.0015\n",
        "Epoch 8/15, Train Loss: 0.9615, Val Loss: 1.1773\n",
        "Epoch 9/15, Train Loss: 0.9416, Val Loss: 1.1358\n",
        "Epoch 10/15, Train Loss: 0.9284, Val Loss: 0.9237\n",
        "Epoch 11/15, Train Loss: 0.9069, Val Loss: 0.9929\n",
        "Epoch 12/15, Train Loss: 0.8920, Val Loss: 0.8746\n",
        "Epoch 13/15, Train Loss: 0.8807, Val Loss: 0.9296\n",
        "Epoch 14/15, Train Loss: 0.8664, Val Loss: 0.9162\n",
        "Epoch 15/15, Train Loss: 0.8530, Val Loss: 0.8629\n"
      ],
      "metadata": {
        "id": "k_kqV8f9k5rc"
      }
    },
    {
      "cell_type": "markdown",
      "source": [
        "data aug (only normalise)"
      ],
      "metadata": {
        "id": "eJrJDKx9yuWJ"
      }
    },
    {
      "cell_type": "code",
      "source": [
        "plt.plot(range(num_epochs), train_loss_list, label='Training Loss')\n",
        "plt.plot(range(num_epochs), val_loss_list, label='Validation Loss')\n",
        "plt.xlabel('Epoch')\n",
        "plt.ylabel('Loss')\n",
        "plt.legend()\n",
        "plt.show"
      ],
      "metadata": {
        "id": "qfshmoP3lnbs",
        "trusted": true
      },
      "execution_count": null,
      "outputs": []
    },
    {
      "cell_type": "code",
      "source": [
        "plt.plot(range(num_epochs), train_loss_list, label='Training Loss')\n",
        "plt.plot(range(num_epochs), val_loss_list, label='Validation Loss')\n",
        "plt.xlabel('Epoch')\n",
        "plt.ylabel('Loss')\n",
        "plt.legend()\n",
        "plt.show\n",
        "\n",
        "\n"
      ],
      "metadata": {
        "id": "sAely7FDZ_Mv",
        "trusted": true
      },
      "execution_count": null,
      "outputs": []
    },
    {
      "cell_type": "markdown",
      "source": [
        "BigUnet -> train: val: 0.9933\n",
        "\n",
        "\n",
        "BigUnet with dropout -> train: val: 1.001\n",
        "\n"
      ],
      "metadata": {
        "id": "vN7gYQ0bCLJ3"
      }
    },
    {
      "cell_type": "markdown",
      "source": [
        "### Other model: denseblock"
      ],
      "metadata": {
        "id": "OY2zDGA91ljp"
      }
    },
    {
      "cell_type": "code",
      "source": [
        "# load the trained model\n",
        "device = torch.device(\"cuda\" if torch.cuda.is_available() else \"cpu\")\n",
        "model = UNet().to(device)\n",
        "# Load the trained model\n",
        "model.load_state_dict(torch.load('/content/drive/MyDrive/trained_model.pth'))"
      ],
      "metadata": {
        "id": "FHYyRJM8o4XT",
        "trusted": true
      },
      "execution_count": null,
      "outputs": []
    },
    {
      "cell_type": "code",
      "source": [
        "model.eval()\n",
        "\n",
        "# Create a directory to store the predicted dose files\n",
        "output_dir = \"predictions\"\n",
        "os.makedirs(output_dir, exist_ok=True)\n",
        "\n",
        "# Loop through the test dataset and make predictions\n",
        "with torch.no_grad():\n",
        "    for idx, data in enumerate(test_dataloader):\n",
        "        sample_names = data['sample_name']\n",
        "        inputs = data['input_image'].to(device)\n",
        "        outputs = model(inputs)\n",
        "        \n",
        "        batch_outputs = outputs.cpu().numpy()\n",
        "        \n",
        "        # Save each sample's prediction separately\n",
        "        for i, sample_name in enumerate(sample_names):\n",
        "            output_file = os.path.join(output_dir, f'{sample_name}.npy')\n",
        "            np.save(output_file, batch_outputs[i])\n",
        "\n",
        "# Create a zip file with all the predicted dose files\n",
        "with zipfile.ZipFile(\"submission.zip\", \"w\") as zf:\n",
        "    for file in os.listdir(output_dir):\n",
        "        file_path = os.path.join(output_dir, file)\n",
        "        zf.write(file_path, arcname=file)\n",
        "\n"
      ],
      "metadata": {
        "id": "gnWh1PyMeKb6",
        "trusted": true
      },
      "execution_count": null,
      "outputs": []
    },
    {
      "cell_type": "code",
      "source": [
        "import torch\n",
        "import torch.nn as nn\n",
        "import torch.nn.functional as F\n",
        "\n",
        "class DenseBlock(nn.Module):\n",
        "    def __init__(self, in_channels, growth_rate, num_layers, dropout_rate, l2):\n",
        "        super(DenseBlock, self).__init__()\n",
        "        self.layers = nn.ModuleList([\n",
        "            nn.Sequential(\n",
        "                nn.BatchNorm2d(in_channels + growth_rate * i),\n",
        "                nn.ReLU(inplace=True),\n",
        "                nn.Conv2d(in_channels + growth_rate * i, growth_rate, 3, padding=1, bias=False),\n",
        "                nn.Dropout(dropout_rate) if dropout_rate else nn.Identity()\n",
        "            )\n",
        "            for i in range(num_layers)\n",
        "        ])\n",
        "    \n",
        "    def forward(self, x):\n",
        "        for layer in self.layers:\n",
        "            out = layer(x)\n",
        "            x = torch.cat([x, out], dim=1)\n",
        "        return x\n",
        "\n",
        "class TransitionDown(nn.Module):\n",
        "    def __init__(self, in_channels, out_channels, dropout_rate):\n",
        "        super(TransitionDown, self).__init__()\n",
        "        self.layers = nn.Sequential(\n",
        "            nn.BatchNorm2d(in_channels),\n",
        "            nn.ReLU(inplace=True),\n",
        "            nn.Conv2d(in_channels, out_channels, 1, bias=False),\n",
        "            nn.Dropout(dropout_rate) if dropout_rate else nn.Identity(),\n",
        "            nn.AvgPool2d(2)\n",
        "        )\n",
        "\n",
        "    def forward(self, x):\n",
        "        return self.layers(x)\n",
        "\n",
        "class DenseUNet(nn.Module):\n",
        "    def __init__(self, input_shape, dropout_rate=None, l2=0.00000001, activation='relu', lr=0.0001, print_summary=False):\n",
        "        super(DenseUNet, self).__init__()\n",
        "\n",
        "        self.encoder = nn.Sequential(\n",
        "            nn.Conv2d(input_shape[2], 32, 3, padding=1, bias=False),\n",
        "            nn.BatchNorm2d(32),\n",
        "            nn.ReLU(inplace=True)\n",
        "        )\n",
        "\n",
        "        growth_rates = [8, 16, 32, 64]\n",
        "        self.dense_blocks = nn.ModuleList([DenseBlock(32 + sum(growth_rates[:i]), growth_rate, 4, dropout_rate, l2) for i, growth_rate in enumerate(growth_rates)])\n",
        "        self.transition_downs = nn.ModuleList([TransitionDown(32 + sum(growth_rates[:i + 1]), 32 + sum(growth_rates[:i + 1]), dropout_rate) for i in range(len(growth_rates) - 1)])\n",
        "\n",
        "        self.decoder = nn.Sequential(\n",
        "            nn.ConvTranspose2d(800, 512, 3, stride=2, padding=1, output_padding=1, bias=False),\n",
        "            nn.BatchNorm2d(512),\n",
        "            nn.ReLU(inplace=True),\n",
        "            nn.Conv2d(512, 256, 1, bias=False),\n",
        "            nn.BatchNorm2d(256),\n",
        "            nn.ReLU(inplace=True),\n",
        "            DenseBlock(256, 64, 4, dropout_rate, l2),\n",
        "            nn.ConvTranspose2d(512, 256, 3, stride=2, padding=1, output_padding=1, bias=False),\n",
        "            nn.BatchNorm2d(256),\n",
        "            nn.ReLU(inplace=True),\n",
        "            nn.Conv2d(256, 128, 1, bias=False),\n",
        "            nn.BatchNorm2d(128),\n",
        "            nn.ReLU(inplace=True),\n",
        "            DenseBlock(128, 32, 4, dropout_rate, l2),\n",
        "            nn.ConvTranspose2d(256, 128, 3, stride=2, padding=1, output_padding=1, bias=False),\n",
        "            nn.BatchNorm2d(128),\n",
        "            nn.ReLU(inplace=True),\n",
        "            nn.Conv2d(128, 64, 1, bias=False),\n",
        "            nn.BatchNorm2d(64),\n",
        "            nn.ReLU(inplace=True),\n",
        "            DenseBlock(64, 16, 4, dropout_rate, l2),\n",
        "            nn.ConvTranspose2d(128, 64, 3, stride=2, padding=1, output_padding=1, bias=False),\n",
        "            nn.BatchNorm2d(64),\n",
        "            nn.ReLU(inplace=True),\n",
        "            nn.Conv2d(64, 32, 1, bias=False),\n",
        "            nn.BatchNorm2d(32),\n",
        "            nn.ReLU(inplace=True),\n",
        "            DenseBlock(32, 8, 4, dropout_rate, l2)\n",
        "            )\n",
        "\n",
        "        self.output = nn.Conv2d(80, 1, 1, bias=True)\n",
        "            \n",
        "        self.print_summary = print_summary\n",
        "\n",
        "        def forward(self, x):\n",
        "            x1 = self.encoder(x)\n",
        "            x = x1\n",
        "\n",
        "            for dense_block, transition_down in zip(self.dense_blocks[:-1], self.transition_downs):\n",
        "                x = dense_block(x)\n",
        "                x = transition_down(x)\n",
        "\n",
        "            x = self.dense_blocks[-1](x)\n",
        "\n",
        "            x = self.decoder(x)\n",
        "            x = torch.cat([x, x1], dim=1)\n",
        "            x = self.output(x)\n",
        "            \n",
        "            return x\n",
        "\n"
      ],
      "metadata": {
        "id": "VGXygExvLCPg",
        "trusted": true
      },
      "execution_count": null,
      "outputs": []
    },
    {
      "cell_type": "code",
      "source": [],
      "metadata": {
        "id": "Ea-pTpES7XrI"
      },
      "execution_count": null,
      "outputs": []
    }
  ]
}