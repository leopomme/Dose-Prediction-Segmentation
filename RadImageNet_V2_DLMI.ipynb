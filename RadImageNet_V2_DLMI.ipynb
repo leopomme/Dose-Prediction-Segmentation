{
  "metadata": {
    "accelerator": "GPU",
    "colab": {
      "provenance": [],
      "include_colab_link": true
    },
    "gpuClass": "standard",
    "kernelspec": {
      "display_name": "Python 3",
      "language": "python",
      "name": "python3"
    },
    "language_info": {
      "name": "python",
      "version": "3.7.12",
      "mimetype": "text/x-python",
      "codemirror_mode": {
        "name": "ipython",
        "version": 3
      },
      "pygments_lexer": "ipython3",
      "nbconvert_exporter": "python",
      "file_extension": ".py"
    }
  },
  "nbformat_minor": 0,
  "nbformat": 4,
  "cells": [
    {
      "cell_type": "markdown",
      "metadata": {
        "id": "view-in-github",
        "colab_type": "text"
      },
      "source": [
        "<a href=\"https://colab.research.google.com/github/leopomme/Dose-Prediction-Segmentation/blob/main/RadImageNet_V2_DLMI.ipynb\" target=\"_parent\"><img src=\"https://colab.research.google.com/assets/colab-badge.svg\" alt=\"Open In Colab\"/></a>"
      ]
    },
    {
      "cell_type": "code",
      "source": [
        "import os\n",
        "import pandas as pd\n",
        "import numpy as np\n",
        "import matplotlib.pyplot as plt\n",
        "import h5py\n",
        "\n",
        "import cv2\n",
        "import albumentations as A\n",
        "import torch\n",
        "import torch.nn as nn\n",
        "import torch.nn.functional as F\n",
        "import torchvision\n",
        "from torchvision import transforms\n",
        "from torch.utils.data.dataset import Dataset\n",
        "from torch.utils.data import DataLoader\n",
        "import torch.optim as optim\n",
        "import matplotlib.pyplot as plt\n",
        "from albumentations.pytorch import ToTensorV2\n",
        "from torch.optim.lr_scheduler import StepLR\n",
        "from torchvision.models.resnet import resnet50, Bottleneck\n",
        "\n",
        "import time \n",
        "from tqdm import tqdm\n",
        "from glob import glob\n",
        "import zipfile\n",
        "import shutil\n"
      ],
      "metadata": {
        "id": "59xiuIQZLCPP",
        "execution": {
          "iopub.status.busy": "2023-03-17T16:25:48.162805Z",
          "iopub.execute_input": "2023-03-17T16:25:48.163234Z",
          "iopub.status.idle": "2023-03-17T16:25:48.171844Z",
          "shell.execute_reply.started": "2023-03-17T16:25:48.163178Z",
          "shell.execute_reply": "2023-03-17T16:25:48.170632Z"
        },
        "trusted": true
      },
      "execution_count": 67,
      "outputs": []
    },
    {
      "cell_type": "code",
      "source": [
        "!git clone https://github.com/soniamartinot/MVA-Dose-Prediction.git"
      ],
      "metadata": {
        "colab": {
          "base_uri": "https://localhost:8080/"
        },
        "id": "LHRC5fH0LKcf",
        "outputId": "ad9dee4b-25d7-4bd4-80f0-a4d9a3497481",
        "execution": {
          "iopub.status.busy": "2023-03-17T16:25:48.181414Z",
          "iopub.execute_input": "2023-03-17T16:25:48.183681Z",
          "iopub.status.idle": "2023-03-17T16:25:49.191382Z",
          "shell.execute_reply.started": "2023-03-17T16:25:48.183650Z",
          "shell.execute_reply": "2023-03-17T16:25:49.190131Z"
        },
        "trusted": true
      },
      "execution_count": 68,
      "outputs": [
        {
          "output_type": "stream",
          "name": "stdout",
          "text": [
            "fatal: destination path 'MVA-Dose-Prediction' already exists and is not an empty directory.\n"
          ]
        }
      ]
    },
    {
      "cell_type": "code",
      "source": [
        "transform_img = A.Compose([\n",
        "    A.OneOf([\n",
        "        A.GaussNoise(var_limit=(0, 25), p=1),\n",
        "        A.Blur(blur_limit=(3, 10), p=1),\n",
        "    ], p=0.5),\n",
        "])\n",
        "\n",
        "transform_img_mask = A.Compose([\n",
        "    A.OneOf([\n",
        "        A.ElasticTransform(alpha=14, sigma=5, alpha_affine=5, p=1),\n",
        "        A.Rotate(limit=10, p=1),\n",
        "        A.VerticalFlip(p=1),\n",
        "        A.GridDistortion(num_steps=10, distort_limit=0.5, p=1),\n",
        "    ], p=0.5),\n",
        "])\n",
        "\n",
        "\n",
        "train_transforms = {\n",
        "    'img': transform_img,\n",
        "    'img_mask': transform_img_mask\n",
        "}\n",
        "\n",
        "val_transforms = None\n"
      ],
      "metadata": {
        "id": "k7TofpC37Fah",
        "execution": {
          "iopub.status.busy": "2023-03-17T16:25:49.201989Z",
          "iopub.execute_input": "2023-03-17T16:25:49.202436Z",
          "iopub.status.idle": "2023-03-17T16:25:49.211021Z",
          "shell.execute_reply.started": "2023-03-17T16:25:49.202398Z",
          "shell.execute_reply": "2023-03-17T16:25:49.209952Z"
        },
        "trusted": true
      },
      "execution_count": 69,
      "outputs": []
    },
    {
      "cell_type": "code",
      "source": [
        "class DoseDataset(torch.utils.data.Dataset):\n",
        "    def __init__(self, data_path, transform=None):\n",
        "        self.data_path = data_path\n",
        "        self.samples = os.listdir(data_path)\n",
        "        self.transform = transform\n",
        "\n",
        "    def __len__(self):\n",
        "        return len(self.samples)\n",
        "\n",
        "    def __getitem__(self, idx):\n",
        "        sample_path = self.data_path + os.sep + self.samples[idx]\n",
        "        ct_scan = np.load(sample_path + os.sep + 'ct.npy')\n",
        "        possible_dose_mask = np.load(sample_path + os.sep + 'possible_dose_mask.npy')\n",
        "        dose = np.load(sample_path + os.sep + 'dose.npy')\n",
        "        structure_masks = np.load(sample_path + os.sep + 'structure_masks.npy')\n",
        "\n",
        "        combined_masks = [possible_dose_mask] + [structure_masks[i] for i in range(structure_masks.shape[0])] + [dose]\n",
        "\n",
        "        if self.transform:\n",
        "            if 'img_mask' in self.transform:\n",
        "                transform_func = self.transform['img_mask']\n",
        "                augmentations = transform_func(image=ct_scan, masks=combined_masks)\n",
        "                ct_scan = augmentations['image']\n",
        "                combined_masks = augmentations['masks']\n",
        "            if 'img' in self.transform:\n",
        "                transform_func = self.transform['img']\n",
        "                augmentations = transform_func(image=ct_scan)\n",
        "                ct_scan = augmentations['image']\n",
        "\n",
        "        # Convert NumPy arrays to PyTorch tensors\n",
        "        ct_scan_tensor = torch.from_numpy(ct_scan).float().unsqueeze(0)\n",
        "        combined_masks_tensor = torch.from_numpy(np.stack(combined_masks[:-1], axis=0)).float()\n",
        "        dose_tensor = torch.from_numpy(combined_masks[-1]).float().unsqueeze(0)\n",
        "\n",
        "        # Normalize the ct_scan tensor\n",
        "        mean = ct_scan_tensor.mean()\n",
        "        std = ct_scan_tensor.std()\n",
        "        normalize = transforms.Normalize(mean=[mean], std=[std+1e-6])\n",
        "        ct_scan_tensor = normalize(ct_scan_tensor)\n",
        "\n",
        "        # Combine ct_scan_tensor and combined_masks_tensor\n",
        "        input_image = torch.cat([ct_scan_tensor, combined_masks_tensor], dim=0)\n",
        "\n",
        "        return {'input_image': input_image, 'dose': dose_tensor}\n"
      ],
      "metadata": {
        "id": "oACxne0dLMio",
        "execution": {
          "iopub.status.busy": "2023-03-17T16:25:49.214172Z",
          "iopub.execute_input": "2023-03-17T16:25:49.214884Z",
          "iopub.status.idle": "2023-03-17T16:25:49.228093Z",
          "shell.execute_reply.started": "2023-03-17T16:25:49.214843Z",
          "shell.execute_reply": "2023-03-17T16:25:49.227040Z"
        },
        "trusted": true
      },
      "execution_count": 70,
      "outputs": []
    },
    {
      "cell_type": "code",
      "source": [
        "class test_DoseDataset(torch.utils.data.Dataset):\n",
        "    def __init__(self, data_path, transform=None):\n",
        "        self.data_path = data_path\n",
        "        self.samples = os.listdir(data_path)\n",
        "        self.transform = transform\n",
        "\n",
        "    def __len__(self):\n",
        "        return len(self.samples)\n",
        "\n",
        "    def __getitem__(self, idx):\n",
        "        sample_path = self.data_path + os.sep + self.samples[idx]\n",
        "        ct_scan = np.load(sample_path + os.sep + 'ct.npy')\n",
        "        possible_dose_mask = np.load(sample_path + os.sep + 'possible_dose_mask.npy')\n",
        "        structure_masks = np.load(sample_path + os.sep + 'structure_masks.npy')\n",
        "        combined_masks = [possible_dose_mask] + [structure_masks[i] for i in range(structure_masks.shape[0])]\n",
        "\n",
        "        # Convert NumPy arrays to PyTorch tensors\n",
        "        ct_scan_tensor = torch.from_numpy(ct_scan).float().unsqueeze(0)\n",
        "        combined_masks_tensor = torch.from_numpy(np.stack(combined_masks, axis=0)).float()\n",
        "\n",
        "        # Normalize the ct_scan tensor\n",
        "        mean = ct_scan_tensor.mean()\n",
        "        std = ct_scan_tensor.std()\n",
        "        normalize = transforms.Normalize(mean=[mean], std=[std+1e-6])\n",
        "        ct_scan_tensor = normalize(ct_scan_tensor)\n",
        "\n",
        "        # Combine ct_scan_tensor and combined_masks_tensor\n",
        "        input_image = torch.cat([ct_scan_tensor, combined_masks_tensor], dim=0)\n",
        "\n",
        "        return {'sample_name': self.samples[idx], 'input_image': input_image}\n"
      ],
      "metadata": {
        "id": "-w3tDPXwh4J3",
        "execution": {
          "iopub.status.busy": "2023-03-17T16:25:49.231546Z",
          "iopub.execute_input": "2023-03-17T16:25:49.231852Z",
          "iopub.status.idle": "2023-03-17T16:25:49.242213Z",
          "shell.execute_reply.started": "2023-03-17T16:25:49.231799Z",
          "shell.execute_reply": "2023-03-17T16:25:49.241228Z"
        },
        "trusted": true
      },
      "execution_count": 71,
      "outputs": []
    },
    {
      "cell_type": "code",
      "source": [
        "from torch.utils.data import ConcatDataset\n",
        "\n",
        "train_dir = \"./MVA-Dose-Prediction/train/\"\n",
        "\n",
        "train_dataset_original = DoseDataset(train_dir, transform=None)\n",
        "train_dataset_augmented = DoseDataset(train_dir, transform=train_transforms)\n",
        "\n",
        "train_dataset = ConcatDataset([train_dataset_original, train_dataset_augmented])\n",
        "\n",
        "train_dataloader = DataLoader(train_dataset_augmented, batch_size=32, num_workers=2, shuffle=True, pin_memory=True)\n",
        "print(len(train_dataloader))\n"
      ],
      "metadata": {
        "colab": {
          "base_uri": "https://localhost:8080/"
        },
        "id": "5Z-Xm8dNLZPG",
        "outputId": "68471078-38d4-4b8e-cabd-d22704f44a1a",
        "execution": {
          "iopub.status.busy": "2023-03-17T16:25:49.244162Z",
          "iopub.execute_input": "2023-03-17T16:25:49.244845Z",
          "iopub.status.idle": "2023-03-17T16:25:49.260218Z",
          "shell.execute_reply.started": "2023-03-17T16:25:49.244806Z",
          "shell.execute_reply": "2023-03-17T16:25:49.258938Z"
        },
        "trusted": true
      },
      "execution_count": 72,
      "outputs": [
        {
          "output_type": "stream",
          "name": "stdout",
          "text": [
            "244\n"
          ]
        }
      ]
    },
    {
      "cell_type": "code",
      "source": [
        "val_dir = \"./MVA-Dose-Prediction/validation/\"\n",
        "\n",
        "val_dataset = DoseDataset(val_dir, transform=val_transforms)\n",
        "val_dataloader = DataLoader(val_dataset, batch_size=32, num_workers=2, shuffle=True, pin_memory=True)\n",
        "print(len(val_dataloader))"
      ],
      "metadata": {
        "colab": {
          "base_uri": "https://localhost:8080/"
        },
        "id": "gdAO-FbeNTnJ",
        "outputId": "d881f336-3282-4670-cda6-3e4acef2b348",
        "execution": {
          "iopub.status.busy": "2023-03-17T16:25:49.262025Z",
          "iopub.execute_input": "2023-03-17T16:25:49.262405Z",
          "iopub.status.idle": "2023-03-17T16:25:49.270428Z",
          "shell.execute_reply.started": "2023-03-17T16:25:49.262365Z",
          "shell.execute_reply": "2023-03-17T16:25:49.269147Z"
        },
        "trusted": true
      },
      "execution_count": 73,
      "outputs": [
        {
          "output_type": "stream",
          "name": "stdout",
          "text": [
            "38\n"
          ]
        }
      ]
    },
    {
      "cell_type": "code",
      "source": [
        "test_dir = \"./MVA-Dose-Prediction/test\"\n",
        "\n",
        "test_dataset = test_DoseDataset(test_dir)\n",
        "test_dataloader = DataLoader(test_dataset, batch_size=32, num_workers=2, shuffle=True, pin_memory=True)\n",
        "print(len(test_dataloader))"
      ],
      "metadata": {
        "colab": {
          "base_uri": "https://localhost:8080/"
        },
        "id": "wyoQdyP3YxXo",
        "outputId": "2cc3dfcb-efa7-478a-87b9-02bf536c4618",
        "execution": {
          "iopub.status.busy": "2023-03-17T16:25:49.271871Z",
          "iopub.execute_input": "2023-03-17T16:25:49.273129Z",
          "iopub.status.idle": "2023-03-17T16:25:49.281092Z",
          "shell.execute_reply.started": "2023-03-17T16:25:49.273019Z",
          "shell.execute_reply": "2023-03-17T16:25:49.279862Z"
        },
        "trusted": true
      },
      "execution_count": 74,
      "outputs": [
        {
          "output_type": "stream",
          "name": "stdout",
          "text": [
            "38\n"
          ]
        }
      ]
    },
    {
      "cell_type": "code",
      "source": [
        "from google.colab import drive\n",
        "drive.mount('/content/drive')"
      ],
      "metadata": {
        "colab": {
          "base_uri": "https://localhost:8080/"
        },
        "id": "EKM4wzbflrDV",
        "outputId": "5d460f10-9012-4a0a-d501-5f58e2b06948"
      },
      "execution_count": 75,
      "outputs": [
        {
          "output_type": "stream",
          "name": "stdout",
          "text": [
            "Drive already mounted at /content/drive; to attempt to forcibly remount, call drive.mount(\"/content/drive\", force_remount=True).\n"
          ]
        }
      ]
    },
    {
      "cell_type": "code",
      "source": [
        "import torch\n",
        "import torch.nn as nn\n",
        "import torch.nn.functional as F\n",
        "from torchvision.models import resnet50\n",
        "\n",
        "\n",
        "class BigBasicBlock(nn.Module):\n",
        "    def __init__(self, in_channels, out_channels, intermediate_channels):\n",
        "        super(BigBasicBlock, self).__init__()\n",
        "        self.block = nn.Sequential(\n",
        "            nn.Conv2d(in_channels, intermediate_channels, kernel_size=3, padding=1),\n",
        "            nn.ReLU(inplace=True),\n",
        "            nn.Conv2d(intermediate_channels, out_channels, kernel_size=3, padding=1),\n",
        "            nn.ReLU(inplace=True),\n",
        "        )\n",
        "\n",
        "    def forward(self, x):\n",
        "        return self.block(x)\n",
        "\n",
        "\n",
        "class BigUNet(nn.Module):\n",
        "    def __init__(self, in_channels=12, out_channels=1, pretrained_weights=None):\n",
        "        super(BigUNet, self).__init__()\n",
        "\n",
        "        # Load pre-trained ResNet50 model\n",
        "        resnet = resnet50(weights=pretrained_weights)\n",
        "\n",
        "        if pretrained_weights is not None:\n",
        "            # Remove the fully connected layer weights from the state_dict\n",
        "            pretrained_weights = {k: v for k, v in pretrained_weights.items() if not k.startswith('fc')}\n",
        "            # Load the pre-trained ResNet50 weights into the resnet model\n",
        "            resnet.load_state_dict(pretrained_weights, strict=False)\n",
        "\n",
        "        # Change the number of input channels for the first convolutional layer\n",
        "        resnet.conv1 = nn.Conv2d(in_channels, 64, kernel_size=7, stride=2, padding=3, bias=False)\n",
        "\n",
        "        # Use the pre-trained ResNet50 layers as the encoder\n",
        "        self.encoder_stage1 = nn.Sequential(\n",
        "            resnet.conv1,\n",
        "            resnet.bn1,\n",
        "            resnet.relu,\n",
        "            resnet.maxpool\n",
        "        )\n",
        "        self.encoder_stage2 = resnet.layer1\n",
        "        self.encoder_stage3 = resnet.layer2\n",
        "        self.encoder_stage4 = resnet.layer3\n",
        "\n",
        "        # Freeze the encoder layers\n",
        "        for param in self.encoder_stage1.parameters():\n",
        "            param.requires_grad = False\n",
        "        for param in self.encoder_stage2.parameters():\n",
        "            param.requires_grad = False\n",
        "        for param in self.encoder_stage3.parameters():\n",
        "            param.requires_grad = False\n",
        "        for param in self.encoder_stage4.parameters():\n",
        "            param.requires_grad = False\n",
        "\n",
        "        # Add convolutional layers for fine-tuning\n",
        "        self.conv_finetune1 = nn.Conv2d(1024, 512, kernel_size=1)\n",
        "        self.conv_finetune2 = nn.Conv2d(512, 1024, kernel_size=1)\n",
        "        self.upsample_finetuned = nn.ConvTranspose2d(1024, 1024, kernel_size=2, stride=2)\n",
        "\n",
        "        # Bottom block\n",
        "        self.bottom = BigBasicBlock(1024, 1024, 1024)\n",
        "\n",
        "        # Upward pass\n",
        "        self.up4 = nn.Sequential(\n",
        "            nn.ConvTranspose2d(1024 + 512, 512, kernel_size=2, stride=2),\n",
        "            BigBasicBlock(512, 512, 512),\n",
        "        )\n",
        "        self.up3 = nn.Sequential(\n",
        "            nn.ConvTranspose2d(512 + 256, 256, kernel_size=2, stride=2),\n",
        "            BigBasicBlock(256, 256, 256),\n",
        "        )\n",
        "        self.up2 = nn.Sequential(\n",
        "            nn.ConvTranspose2d(256, 128, kernel_size=2, stride=2),\n",
        "            BigBasicBlock(128, 128, 128),\n",
        "        )\n",
        "        # self.up1 = nn.Sequential(\n",
        "        #     nn.ConvTranspose2d(128 + in_channels, 64, kernel_size=2, stride=2),\n",
        "        #     nn.Conv2d(64, 32, kernel_size=3, stride=1, padding=1),\n",
        "        #     nn.ConvTranspose2d(32, 32, kernel_size=2, stride=2, padding=0, output_padding=0)\n",
        "        # )\n",
        "\n",
        "        self.last = nn.Sequential(\n",
        "            nn.Conv2d(128 + in_channels, 64, kernel_size=3, stride=1, padding=1),\n",
        "            # nn.Conv2d(32 + in_channels, 16, kernel_size=3, stride=1, padding=1),\n",
        "            nn.Conv2d(64, 32, kernel_size=3, stride=1, padding=1),\n",
        "            nn.Conv2d(32, 16, kernel_size=3, stride=1, padding=1),\n",
        "            nn.Conv2d(16, 8, kernel_size=3, stride=1, padding=1),\n",
        "            nn.Conv2d(8, 4, kernel_size=3, stride=1, padding=1),\n",
        "            nn.Conv2d(4, 2, kernel_size=3, stride=1, padding=1),\n",
        "            nn.Conv2d(2, 1, kernel_size=3, stride=1, padding=1)  \n",
        "        )\n",
        "\n",
        "    def forward(self, x):\n",
        "        # Encoder pass\n",
        "        # print('x',x.shape)\n",
        "        x1 = self.encoder_stage1(x)\n",
        "        # print('x1',x1.shape)\n",
        "        x2 = self.encoder_stage2(x1)\n",
        "        # print('x2',x2.shape)\n",
        "        x3 = self.encoder_stage3(x2)\n",
        "        # print('x3',x3.shape)\n",
        "        x4 = self.encoder_stage4(x3)\n",
        "        # print('x4',x4.shape)\n",
        "\n",
        "        # Fine-tune the encoder output with convolutional layers\n",
        "        x4_finetuned = F.relu(self.conv_finetune1(x4))\n",
        "        # print('x4_finetuned',x4_finetuned.shape)\n",
        "        x4_finetuned = F.relu(self.conv_finetune2(x4_finetuned))\n",
        "        # print('x4_finetuned',x4_finetuned.shape)\n",
        "        x4_finetuned_upsampled = self.upsample_finetuned(x4_finetuned)\n",
        "        # print('x4_finetuned_upsampled',x4_finetuned_upsampled.shape)\n",
        "\n",
        "        # Bottom block\n",
        "        bottom = self.bottom(x4_finetuned_upsampled)\n",
        "        # print('bottom',bottom.shape)\n",
        "\n",
        "        # Upward pass\n",
        "        up4 = self.up4(torch.cat((bottom, x3), dim=1))\n",
        "        # print('up4',up4.shape)\n",
        "        up3 = self.up3(torch.cat((up4, x2), dim=1))\n",
        "        # print('up3',up3.shape)\n",
        "        up2 = self.up2(up3)\n",
        "        # print('up2',up2.shape)\n",
        "        # up1 = self.up1(torch.cat((up2, x), dim=1))\n",
        "        # print('up1',up1.shape)\n",
        "\n",
        "        # Concatenate input layer\n",
        "        y_concat = torch.cat((up2, x), dim=1)\n",
        "        # print('y_concat',y_concat.shape)\n",
        "        y = F.relu(self.last(y_concat))\n",
        "        # print('y',y.shape)\n",
        "\n",
        "        y = y * x[:, 1:2, :, :]\n",
        "\n",
        "        return y\n",
        "\n"
      ],
      "metadata": {
        "id": "HXVk8PEtDGcZ"
      },
      "execution_count": 76,
      "outputs": []
    },
    {
      "cell_type": "code",
      "source": [
        "# Create a training loop\n",
        "def train(model, dataloader, criterion, optimizer, device):\n",
        "    model.train()\n",
        "    running_loss = 0.0\n",
        "    for i, data in enumerate(dataloader, 0):\n",
        "        inputs, labels = data['input_image'].to(device), data['dose'].to(device)\n",
        "        optimizer.zero_grad()\n",
        "        outputs = model(inputs)\n",
        "        loss = criterion(outputs, labels)\n",
        "        loss.backward()\n",
        "        optimizer.step()\n",
        "        running_loss += loss.item()\n",
        "    return running_loss / (i + 1)\n",
        "\n",
        "# Create a validation loop\n",
        "def validate(model, dataloader, criterion, device):\n",
        "    model.eval()\n",
        "    running_loss = 0.0\n",
        "    with torch.no_grad():\n",
        "        for i, data in enumerate(dataloader, 0):\n",
        "            inputs, labels = data['input_image'].to(device), data['dose'].to(device)\n",
        "            outputs = model(inputs)\n",
        "            loss = criterion(outputs, labels)\n",
        "            running_loss += loss.item()\n",
        "    return running_loss / (i + 1)\n"
      ],
      "metadata": {
        "id": "wCTO3vKnLCPd",
        "execution": {
          "iopub.status.busy": "2023-03-17T16:25:49.368824Z",
          "iopub.execute_input": "2023-03-17T16:25:49.369613Z",
          "iopub.status.idle": "2023-03-17T16:25:49.380476Z",
          "shell.execute_reply.started": "2023-03-17T16:25:49.369575Z",
          "shell.execute_reply": "2023-03-17T16:25:49.379564Z"
        },
        "trusted": true
      },
      "execution_count": 77,
      "outputs": []
    },
    {
      "cell_type": "code",
      "source": [
        "class EarlyStopping:\n",
        "  def __init__(self, patience = 5):\n",
        "    self.patience = patience\n",
        "    self.best_val_loss = None\n",
        "    self.counter = 0\n",
        "    self.early_stop = False\n",
        "\n",
        "  def __call__(self, val_loss):\n",
        "    if self.best_val_loss is None or val_loss < self.best_val_loss:\n",
        "        self.best_val_loss = val_loss\n",
        "        torch.save(model.state_dict(), 'best_trained_model.pth')\n",
        "        print('model saved')\n",
        "        self.counter = 0\n",
        "    else:\n",
        "        self.counter += 1"
      ],
      "metadata": {
        "id": "W4F91_0xMK6M"
      },
      "execution_count": 78,
      "outputs": []
    },
    {
      "cell_type": "code",
      "source": [
        "# Train the model and evaluate its performance on the validation set\n",
        "num_epochs = 100\n",
        "device = torch.device(\"cuda\" if torch.cuda.is_available() else \"cpu\")\n",
        "print(device)\n",
        "\n",
        "# Load the pre-trained weights\n",
        "resnet_weights = torch.load('/content/drive/MyDrive/RadImageNet-ResNet50_notop_torch.pth')\n",
        "model = BigUNet(pretrained_weights=resnet_weights).to(device)\n",
        "\n",
        "\n",
        "criterion = nn.L1Loss()\n",
        "optimizer = optim.Adam(model.parameters(), lr=0.001)\n",
        "scheduler = StepLR(optimizer, step_size=15, gamma=0.1)\n",
        "early_stopping = EarlyStopping(patience = 16)\n",
        "real_num_epoch = 0\n",
        "\n",
        "train_loss_list = []\n",
        "val_loss_list = []\n",
        "\n",
        "start_time = time.time()\n",
        "\n",
        "for epoch in range(num_epochs):\n",
        "    epoch_time = time.time()\n",
        "\n",
        "    train_loss = train(model, train_dataloader, criterion, optimizer, device)\n",
        "    val_loss = validate(model, val_dataloader, criterion, device)\n",
        "\n",
        "    elapsed_time = time.time() - epoch_time\n",
        "    total_time = time.time() - start_time\n",
        "    print(f'Epoch {epoch + 1}/{num_epochs}, Train Loss: {train_loss:.4f}, Val Loss: {val_loss:.4f}, Epoch time: {elapsed_time/60:.2f}min, Total time: {total_time/60:.2f}min')\n",
        "    real_num_epoch +=1\n",
        "\n",
        "    # Update the learning rate using the scheduler\n",
        "    scheduler.step()\n",
        "\n",
        "    train_loss_list.append(train_loss)\n",
        "    val_loss_list.append(val_loss)\n",
        "    \n",
        "    early_stopping(val_loss)\n",
        "    if early_stopping.counter >= early_stopping.patience:\n",
        "      print(f'Early stopping at epoch {epoch + 1}. Best epoch: {epoch + 1 - early_stopping.counter} with Val Loss: {early_stopping.best_val_loss:.4f}')\n",
        "      break"
      ],
      "metadata": {
        "colab": {
          "base_uri": "https://localhost:8080/",
          "height": 425
        },
        "id": "41jaPhkTLCPd",
        "outputId": "b0e807eb-324f-4729-fc2c-7b923b54a1c5",
        "execution": {
          "iopub.status.busy": "2023-03-17T16:25:49.381976Z",
          "iopub.execute_input": "2023-03-17T16:25:49.382457Z",
          "iopub.status.idle": "2023-03-17T17:09:24.656929Z",
          "shell.execute_reply.started": "2023-03-17T16:25:49.382419Z",
          "shell.execute_reply": "2023-03-17T17:09:24.655657Z"
        },
        "trusted": true
      },
      "execution_count": 79,
      "outputs": [
        {
          "output_type": "stream",
          "name": "stdout",
          "text": [
            "cuda\n"
          ]
        },
        {
          "output_type": "error",
          "ename": "KeyboardInterrupt",
          "evalue": "ignored",
          "traceback": [
            "\u001b[0;31m---------------------------------------------------------------------------\u001b[0m",
            "\u001b[0;31mKeyboardInterrupt\u001b[0m                         Traceback (most recent call last)",
            "\u001b[0;32m<ipython-input-79-f89540784c55>\u001b[0m in \u001b[0;36m<module>\u001b[0;34m\u001b[0m\n\u001b[1;32m     23\u001b[0m     \u001b[0mepoch_time\u001b[0m \u001b[0;34m=\u001b[0m \u001b[0mtime\u001b[0m\u001b[0;34m.\u001b[0m\u001b[0mtime\u001b[0m\u001b[0;34m(\u001b[0m\u001b[0;34m)\u001b[0m\u001b[0;34m\u001b[0m\u001b[0;34m\u001b[0m\u001b[0m\n\u001b[1;32m     24\u001b[0m \u001b[0;34m\u001b[0m\u001b[0m\n\u001b[0;32m---> 25\u001b[0;31m     \u001b[0mtrain_loss\u001b[0m \u001b[0;34m=\u001b[0m \u001b[0mtrain\u001b[0m\u001b[0;34m(\u001b[0m\u001b[0mmodel\u001b[0m\u001b[0;34m,\u001b[0m \u001b[0mtrain_dataloader\u001b[0m\u001b[0;34m,\u001b[0m \u001b[0mcriterion\u001b[0m\u001b[0;34m,\u001b[0m \u001b[0moptimizer\u001b[0m\u001b[0;34m,\u001b[0m \u001b[0mdevice\u001b[0m\u001b[0;34m)\u001b[0m\u001b[0;34m\u001b[0m\u001b[0;34m\u001b[0m\u001b[0m\n\u001b[0m\u001b[1;32m     26\u001b[0m     \u001b[0mval_loss\u001b[0m \u001b[0;34m=\u001b[0m \u001b[0mvalidate\u001b[0m\u001b[0;34m(\u001b[0m\u001b[0mmodel\u001b[0m\u001b[0;34m,\u001b[0m \u001b[0mval_dataloader\u001b[0m\u001b[0;34m,\u001b[0m \u001b[0mcriterion\u001b[0m\u001b[0;34m,\u001b[0m \u001b[0mdevice\u001b[0m\u001b[0;34m)\u001b[0m\u001b[0;34m\u001b[0m\u001b[0;34m\u001b[0m\u001b[0m\n\u001b[1;32m     27\u001b[0m \u001b[0;34m\u001b[0m\u001b[0m\n",
            "\u001b[0;32m<ipython-input-77-2768f8c9a9e6>\u001b[0m in \u001b[0;36mtrain\u001b[0;34m(model, dataloader, criterion, optimizer, device)\u001b[0m\n\u001b[1;32m      9\u001b[0m         \u001b[0mloss\u001b[0m \u001b[0;34m=\u001b[0m \u001b[0mcriterion\u001b[0m\u001b[0;34m(\u001b[0m\u001b[0moutputs\u001b[0m\u001b[0;34m,\u001b[0m \u001b[0mlabels\u001b[0m\u001b[0;34m)\u001b[0m\u001b[0;34m\u001b[0m\u001b[0;34m\u001b[0m\u001b[0m\n\u001b[1;32m     10\u001b[0m         \u001b[0mloss\u001b[0m\u001b[0;34m.\u001b[0m\u001b[0mbackward\u001b[0m\u001b[0;34m(\u001b[0m\u001b[0;34m)\u001b[0m\u001b[0;34m\u001b[0m\u001b[0;34m\u001b[0m\u001b[0m\n\u001b[0;32m---> 11\u001b[0;31m         \u001b[0moptimizer\u001b[0m\u001b[0;34m.\u001b[0m\u001b[0mstep\u001b[0m\u001b[0;34m(\u001b[0m\u001b[0;34m)\u001b[0m\u001b[0;34m\u001b[0m\u001b[0;34m\u001b[0m\u001b[0m\n\u001b[0m\u001b[1;32m     12\u001b[0m         \u001b[0mrunning_loss\u001b[0m \u001b[0;34m+=\u001b[0m \u001b[0mloss\u001b[0m\u001b[0;34m.\u001b[0m\u001b[0mitem\u001b[0m\u001b[0;34m(\u001b[0m\u001b[0;34m)\u001b[0m\u001b[0;34m\u001b[0m\u001b[0;34m\u001b[0m\u001b[0m\n\u001b[1;32m     13\u001b[0m     \u001b[0;32mreturn\u001b[0m \u001b[0mrunning_loss\u001b[0m \u001b[0;34m/\u001b[0m \u001b[0;34m(\u001b[0m\u001b[0mi\u001b[0m \u001b[0;34m+\u001b[0m \u001b[0;36m1\u001b[0m\u001b[0;34m)\u001b[0m\u001b[0;34m\u001b[0m\u001b[0;34m\u001b[0m\u001b[0m\n",
            "\u001b[0;32m/usr/local/lib/python3.9/dist-packages/torch/optim/lr_scheduler.py\u001b[0m in \u001b[0;36mwrapper\u001b[0;34m(*args, **kwargs)\u001b[0m\n\u001b[1;32m     66\u001b[0m                 \u001b[0minstance\u001b[0m\u001b[0;34m.\u001b[0m\u001b[0m_step_count\u001b[0m \u001b[0;34m+=\u001b[0m \u001b[0;36m1\u001b[0m\u001b[0;34m\u001b[0m\u001b[0;34m\u001b[0m\u001b[0m\n\u001b[1;32m     67\u001b[0m                 \u001b[0mwrapped\u001b[0m \u001b[0;34m=\u001b[0m \u001b[0mfunc\u001b[0m\u001b[0;34m.\u001b[0m\u001b[0m__get__\u001b[0m\u001b[0;34m(\u001b[0m\u001b[0minstance\u001b[0m\u001b[0;34m,\u001b[0m \u001b[0mcls\u001b[0m\u001b[0;34m)\u001b[0m\u001b[0;34m\u001b[0m\u001b[0;34m\u001b[0m\u001b[0m\n\u001b[0;32m---> 68\u001b[0;31m                 \u001b[0;32mreturn\u001b[0m \u001b[0mwrapped\u001b[0m\u001b[0;34m(\u001b[0m\u001b[0;34m*\u001b[0m\u001b[0margs\u001b[0m\u001b[0;34m,\u001b[0m \u001b[0;34m**\u001b[0m\u001b[0mkwargs\u001b[0m\u001b[0;34m)\u001b[0m\u001b[0;34m\u001b[0m\u001b[0;34m\u001b[0m\u001b[0m\n\u001b[0m\u001b[1;32m     69\u001b[0m \u001b[0;34m\u001b[0m\u001b[0m\n\u001b[1;32m     70\u001b[0m             \u001b[0;31m# Note that the returned function here is no longer a bound method,\u001b[0m\u001b[0;34m\u001b[0m\u001b[0;34m\u001b[0m\u001b[0m\n",
            "\u001b[0;32m/usr/local/lib/python3.9/dist-packages/torch/optim/optimizer.py\u001b[0m in \u001b[0;36mwrapper\u001b[0;34m(*args, **kwargs)\u001b[0m\n\u001b[1;32m    138\u001b[0m                 \u001b[0mprofile_name\u001b[0m \u001b[0;34m=\u001b[0m \u001b[0;34m\"Optimizer.step#{}.step\"\u001b[0m\u001b[0;34m.\u001b[0m\u001b[0mformat\u001b[0m\u001b[0;34m(\u001b[0m\u001b[0mobj\u001b[0m\u001b[0;34m.\u001b[0m\u001b[0m__class__\u001b[0m\u001b[0;34m.\u001b[0m\u001b[0m__name__\u001b[0m\u001b[0;34m)\u001b[0m\u001b[0;34m\u001b[0m\u001b[0;34m\u001b[0m\u001b[0m\n\u001b[1;32m    139\u001b[0m                 \u001b[0;32mwith\u001b[0m \u001b[0mtorch\u001b[0m\u001b[0;34m.\u001b[0m\u001b[0mautograd\u001b[0m\u001b[0;34m.\u001b[0m\u001b[0mprofiler\u001b[0m\u001b[0;34m.\u001b[0m\u001b[0mrecord_function\u001b[0m\u001b[0;34m(\u001b[0m\u001b[0mprofile_name\u001b[0m\u001b[0;34m)\u001b[0m\u001b[0;34m:\u001b[0m\u001b[0;34m\u001b[0m\u001b[0;34m\u001b[0m\u001b[0m\n\u001b[0;32m--> 140\u001b[0;31m                     \u001b[0mout\u001b[0m \u001b[0;34m=\u001b[0m \u001b[0mfunc\u001b[0m\u001b[0;34m(\u001b[0m\u001b[0;34m*\u001b[0m\u001b[0margs\u001b[0m\u001b[0;34m,\u001b[0m \u001b[0;34m**\u001b[0m\u001b[0mkwargs\u001b[0m\u001b[0;34m)\u001b[0m\u001b[0;34m\u001b[0m\u001b[0;34m\u001b[0m\u001b[0m\n\u001b[0m\u001b[1;32m    141\u001b[0m                     \u001b[0mobj\u001b[0m\u001b[0;34m.\u001b[0m\u001b[0m_optimizer_step_code\u001b[0m\u001b[0;34m(\u001b[0m\u001b[0;34m)\u001b[0m\u001b[0;34m\u001b[0m\u001b[0;34m\u001b[0m\u001b[0m\n\u001b[1;32m    142\u001b[0m                     \u001b[0;32mreturn\u001b[0m \u001b[0mout\u001b[0m\u001b[0;34m\u001b[0m\u001b[0;34m\u001b[0m\u001b[0m\n",
            "\u001b[0;32m/usr/local/lib/python3.9/dist-packages/torch/optim/optimizer.py\u001b[0m in \u001b[0;36m_use_grad\u001b[0;34m(self, *args, **kwargs)\u001b[0m\n\u001b[1;32m     21\u001b[0m         \u001b[0;32mtry\u001b[0m\u001b[0;34m:\u001b[0m\u001b[0;34m\u001b[0m\u001b[0;34m\u001b[0m\u001b[0m\n\u001b[1;32m     22\u001b[0m             \u001b[0mtorch\u001b[0m\u001b[0;34m.\u001b[0m\u001b[0mset_grad_enabled\u001b[0m\u001b[0;34m(\u001b[0m\u001b[0mself\u001b[0m\u001b[0;34m.\u001b[0m\u001b[0mdefaults\u001b[0m\u001b[0;34m[\u001b[0m\u001b[0;34m'differentiable'\u001b[0m\u001b[0;34m]\u001b[0m\u001b[0;34m)\u001b[0m\u001b[0;34m\u001b[0m\u001b[0;34m\u001b[0m\u001b[0m\n\u001b[0;32m---> 23\u001b[0;31m             \u001b[0mret\u001b[0m \u001b[0;34m=\u001b[0m \u001b[0mfunc\u001b[0m\u001b[0;34m(\u001b[0m\u001b[0mself\u001b[0m\u001b[0;34m,\u001b[0m \u001b[0;34m*\u001b[0m\u001b[0margs\u001b[0m\u001b[0;34m,\u001b[0m \u001b[0;34m**\u001b[0m\u001b[0mkwargs\u001b[0m\u001b[0;34m)\u001b[0m\u001b[0;34m\u001b[0m\u001b[0;34m\u001b[0m\u001b[0m\n\u001b[0m\u001b[1;32m     24\u001b[0m         \u001b[0;32mfinally\u001b[0m\u001b[0;34m:\u001b[0m\u001b[0;34m\u001b[0m\u001b[0;34m\u001b[0m\u001b[0m\n\u001b[1;32m     25\u001b[0m             \u001b[0mtorch\u001b[0m\u001b[0;34m.\u001b[0m\u001b[0mset_grad_enabled\u001b[0m\u001b[0;34m(\u001b[0m\u001b[0mprev_grad\u001b[0m\u001b[0;34m)\u001b[0m\u001b[0;34m\u001b[0m\u001b[0;34m\u001b[0m\u001b[0m\n",
            "\u001b[0;32m/usr/local/lib/python3.9/dist-packages/torch/optim/adam.py\u001b[0m in \u001b[0;36mstep\u001b[0;34m(self, closure, grad_scaler)\u001b[0m\n\u001b[1;32m    232\u001b[0m                     \u001b[0mstate_steps\u001b[0m\u001b[0;34m.\u001b[0m\u001b[0mappend\u001b[0m\u001b[0;34m(\u001b[0m\u001b[0mstate\u001b[0m\u001b[0;34m[\u001b[0m\u001b[0;34m'step'\u001b[0m\u001b[0;34m]\u001b[0m\u001b[0;34m)\u001b[0m\u001b[0;34m\u001b[0m\u001b[0;34m\u001b[0m\u001b[0m\n\u001b[1;32m    233\u001b[0m \u001b[0;34m\u001b[0m\u001b[0m\n\u001b[0;32m--> 234\u001b[0;31m             adam(params_with_grad,\n\u001b[0m\u001b[1;32m    235\u001b[0m                  \u001b[0mgrads\u001b[0m\u001b[0;34m,\u001b[0m\u001b[0;34m\u001b[0m\u001b[0;34m\u001b[0m\u001b[0m\n\u001b[1;32m    236\u001b[0m                  \u001b[0mexp_avgs\u001b[0m\u001b[0;34m,\u001b[0m\u001b[0;34m\u001b[0m\u001b[0;34m\u001b[0m\u001b[0m\n",
            "\u001b[0;32m/usr/local/lib/python3.9/dist-packages/torch/optim/adam.py\u001b[0m in \u001b[0;36madam\u001b[0;34m(params, grads, exp_avgs, exp_avg_sqs, max_exp_avg_sqs, state_steps, foreach, capturable, differentiable, fused, grad_scale, found_inf, amsgrad, beta1, beta2, lr, weight_decay, eps, maximize)\u001b[0m\n\u001b[1;32m    298\u001b[0m         \u001b[0mfunc\u001b[0m \u001b[0;34m=\u001b[0m \u001b[0m_single_tensor_adam\u001b[0m\u001b[0;34m\u001b[0m\u001b[0;34m\u001b[0m\u001b[0m\n\u001b[1;32m    299\u001b[0m \u001b[0;34m\u001b[0m\u001b[0m\n\u001b[0;32m--> 300\u001b[0;31m     func(params,\n\u001b[0m\u001b[1;32m    301\u001b[0m          \u001b[0mgrads\u001b[0m\u001b[0;34m,\u001b[0m\u001b[0;34m\u001b[0m\u001b[0;34m\u001b[0m\u001b[0m\n\u001b[1;32m    302\u001b[0m          \u001b[0mexp_avgs\u001b[0m\u001b[0;34m,\u001b[0m\u001b[0;34m\u001b[0m\u001b[0;34m\u001b[0m\u001b[0m\n",
            "\u001b[0;32m/usr/local/lib/python3.9/dist-packages/torch/optim/adam.py\u001b[0m in \u001b[0;36m_single_tensor_adam\u001b[0;34m(params, grads, exp_avgs, exp_avg_sqs, max_exp_avg_sqs, state_steps, grad_scale, found_inf, amsgrad, beta1, beta2, lr, weight_decay, eps, maximize, capturable, differentiable)\u001b[0m\n\u001b[1;32m    349\u001b[0m \u001b[0;34m\u001b[0m\u001b[0m\n\u001b[1;32m    350\u001b[0m         \u001b[0;31m# update step\u001b[0m\u001b[0;34m\u001b[0m\u001b[0;34m\u001b[0m\u001b[0m\n\u001b[0;32m--> 351\u001b[0;31m         \u001b[0mstep_t\u001b[0m \u001b[0;34m+=\u001b[0m \u001b[0;36m1\u001b[0m\u001b[0;34m\u001b[0m\u001b[0;34m\u001b[0m\u001b[0m\n\u001b[0m\u001b[1;32m    352\u001b[0m \u001b[0;34m\u001b[0m\u001b[0m\n\u001b[1;32m    353\u001b[0m         \u001b[0;32mif\u001b[0m \u001b[0mweight_decay\u001b[0m \u001b[0;34m!=\u001b[0m \u001b[0;36m0\u001b[0m\u001b[0;34m:\u001b[0m\u001b[0;34m\u001b[0m\u001b[0;34m\u001b[0m\u001b[0m\n",
            "\u001b[0;31mKeyboardInterrupt\u001b[0m: "
          ]
        }
      ]
    },
    {
      "cell_type": "code",
      "source": [
        "plt.plot(range(real_num_epoch), train_loss_list, label='Training Loss')\n",
        "plt.plot(range(real_num_epoch), val_loss_list, label='Validation Loss')\n",
        "plt.xlabel('Epoch')\n",
        "plt.ylabel('Loss')\n",
        "plt.legend()\n",
        "plt.show"
      ],
      "metadata": {
        "id": "qfshmoP3lnbs",
        "execution": {
          "iopub.status.busy": "2023-03-17T17:09:24.661974Z",
          "iopub.execute_input": "2023-03-17T17:09:24.662337Z",
          "iopub.status.idle": "2023-03-17T17:09:24.994035Z",
          "shell.execute_reply.started": "2023-03-17T17:09:24.662299Z",
          "shell.execute_reply": "2023-03-17T17:09:24.992942Z"
        },
        "trusted": true
      },
      "execution_count": null,
      "outputs": []
    },
    {
      "cell_type": "code",
      "source": [
        "model_save_path = \"/content/drive/MyDrive/best_trained_model_rad.pth\"\n",
        "torch.save(model.state_dict(), model_save_path)\n"
      ],
      "metadata": {
        "id": "T6LMsui-wUlY"
      },
      "execution_count": null,
      "outputs": []
    },
    {
      "cell_type": "code",
      "source": [
        "model.load_state_dict(torch.load(\"/content/drive/MyDrive/best_trained_model_rad.pth\"))\n",
        "model.eval()\n",
        "\n",
        "# Create a directory to store the predicted dose files\n",
        "output_dir = \"predictions\"\n",
        "os.makedirs(output_dir, exist_ok=True)\n",
        "\n",
        "# Loop through the test dataset and make predictions\n",
        "with torch.no_grad():\n",
        "    for idx, data in enumerate(test_dataloader):\n",
        "        sample_names = data['sample_name']\n",
        "        inputs = data['input_image'].to(device)\n",
        "        outputs = model(inputs)\n",
        "        \n",
        "        batch_outputs = outputs.cpu().numpy()\n",
        "        \n",
        "        # Save each sample's prediction separately\n",
        "        for i, sample_name in enumerate(sample_names):\n",
        "            output_file = os.path.join(output_dir, f'{sample_name}.npy')\n",
        "            np.save(output_file, batch_outputs[i])\n",
        "\n",
        "# Create a zip file with all the predicted dose files\n",
        "with zipfile.ZipFile(\"submission.zip\", \"w\") as zf:\n",
        "    for file in os.listdir(output_dir):\n",
        "        file_path = os.path.join(output_dir, file)\n",
        "        zf.write(file_path, arcname=file)\n"
      ],
      "metadata": {
        "id": "gnWh1PyMeKb6",
        "execution": {
          "iopub.status.busy": "2023-03-17T17:09:25.304260Z",
          "iopub.status.idle": "2023-03-17T17:09:25.304800Z",
          "shell.execute_reply.started": "2023-03-17T17:09:25.304528Z",
          "shell.execute_reply": "2023-03-17T17:09:25.304557Z"
        },
        "trusted": true
      },
      "execution_count": null,
      "outputs": []
    },
    {
      "cell_type": "code",
      "source": [],
      "metadata": {
        "id": "rvYjAgEgkZJQ"
      },
      "execution_count": null,
      "outputs": []
    }
  ]
}